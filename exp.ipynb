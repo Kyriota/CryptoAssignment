{
 "cells": [
  {
   "cell_type": "markdown",
   "metadata": {},
   "source": [
    "# RSA Mega Gift Pak"
   ]
  },
  {
   "cell_type": "code",
   "execution_count": 91,
   "metadata": {},
   "outputs": [],
   "source": [
    "from gmpy2 import invert, powmod, iroot, next_prime, is_prime\n",
    "from functools import reduce\n",
    "from Crypto.Util.number import long_to_bytes\n",
    "import binascii\n",
    "from math import gcd"
   ]
  },
  {
   "cell_type": "code",
   "execution_count": 7,
   "metadata": {},
   "outputs": [
    {
     "name": "stdout",
     "output_type": "stream",
     "text": [
      "['Frame/Frame0', 'Frame/Frame1', 'Frame/Frame2', 'Frame/Frame3', 'Frame/Frame4', 'Frame/Frame5', 'Frame/Frame6', 'Frame/Frame7', 'Frame/Frame8', 'Frame/Frame9', 'Frame/Frame10', 'Frame/Frame11', 'Frame/Frame12', 'Frame/Frame13', 'Frame/Frame14', 'Frame/Frame15', 'Frame/Frame16', 'Frame/Frame17', 'Frame/Frame18', 'Frame/Frame19', 'Frame/Frame20']\n"
     ]
    }
   ],
   "source": [
    "frames = [\"Frame/Frame\" + str(i) for i in range(21)]\n",
    "print(frames)"
   ]
  },
  {
   "cell_type": "code",
   "execution_count": 88,
   "metadata": {},
   "outputs": [],
   "source": [
    "def extract_frame(frame):\n",
    "    with open(frame, 'r') as f:\n",
    "        data = f.read()\n",
    "    n , e , c = int(data[:256] , 16) , int(data[256:512] , 16) , int(data[512:] , 16)\n",
    "    return n, e, c\n",
    "\n",
    "def dec(c, d, n):\n",
    "    return long_to_bytes(pow(c, d, n)).split(b'\\x00')[-1].decode()\n",
    "\n",
    "def iter_all(func, myList):\n",
    "    res = []\n",
    "    for i in range(len(myList)):\n",
    "        for j in range(i+1, len(myList)):\n",
    "            ret = func(myList[i], myList[j])\n",
    "            if ret:\n",
    "                res.append([i, j, ret])\n",
    "    return res"
   ]
  },
  {
   "cell_type": "markdown",
   "metadata": {},
   "source": [
    "### Same Module Attack"
   ]
  },
  {
   "cell_type": "code",
   "execution_count": 49,
   "metadata": {},
   "outputs": [],
   "source": [
    "def same_module_attack(N , e1 , e2 , c1 , c2):\n",
    "    d1 = invert(e1 , e2)\n",
    "    d2 = (d1 * e1 - 1) // e2\n",
    "    true_c2 = invert(c2 , N)\n",
    "    return (powmod(c1 , d1 , N) * powmod(true_c2 , d2 , N)) % N\n",
    "\n",
    "def same_module_attack_for_frame(frame1, frame2):\n",
    "    n1 , e1 , c1 = extract_frame(frame1)\n",
    "    n2 , e2 , c2 = extract_frame(frame2)\n",
    "    if n1 == n2:\n",
    "        m = same_module_attack(n0,e0,e4,c0,c4)\n",
    "        return binascii.a2b_hex(hex(m)[2:])[-8:].decode()\n",
    "    return None"
   ]
  },
  {
   "cell_type": "code",
   "execution_count": 119,
   "metadata": {},
   "outputs": [
    {
     "data": {
      "text/plain": [
       "[[0, 4, 'My secre']]"
      ]
     },
     "execution_count": 119,
     "metadata": {},
     "output_type": "execute_result"
    }
   ],
   "source": [
    "iter_all(same_module_attack_for_frame, frames)"
   ]
  },
  {
   "cell_type": "markdown",
   "metadata": {},
   "source": [
    "### Low e Attack"
   ]
  },
  {
   "cell_type": "code",
   "execution_count": 54,
   "metadata": {},
   "outputs": [],
   "source": [
    "def CRT(mi, ai):\n",
    "    M = reduce(lambda x, y: x * y, mi)\n",
    "    ai_ti_Mi = [a * (M // m) * invert(M // m, m) for (m, a) in zip(mi, ai)]\n",
    "    return reduce(lambda x, y: x + y, ai_ti_Mi) % M\n",
    "\n",
    "def low_e_attack(n, e, c):\n",
    "    m = CRT(n, c)\n",
    "    tmp = iroot(m, e)\n",
    "    if tmp[1] == 1:\n",
    "        return tmp[0]\n",
    "    return 0"
   ]
  },
  {
   "cell_type": "code",
   "execution_count": 55,
   "metadata": {},
   "outputs": [
    {
     "name": "stdout",
     "output_type": "stream",
     "text": [
      "t is a f\n"
     ]
    }
   ],
   "source": [
    "n = []\n",
    "c = []\n",
    "index = [3, 8, 12, 16, 20]\n",
    "for i in index:\n",
    "    nt, _, ct = extract_frame(frames[i])\n",
    "    n.append(nt)\n",
    "    c.append(ct)\n",
    "m = low_e_attack(n, 5, c)\n",
    "m = long_to_bytes(m).split(b'\\x00')[-1].decode()\n",
    "print(m)"
   ]
  },
  {
   "cell_type": "markdown",
   "metadata": {},
   "source": [
    "### Factor Collision"
   ]
  },
  {
   "cell_type": "code",
   "execution_count": 73,
   "metadata": {},
   "outputs": [],
   "source": [
    "def factor_collision_attack(frame1, frame2):\n",
    "    n1, e1, c1 = extract_frame(frame1)\n",
    "    n2, e2, c2 = extract_frame(frame2)\n",
    "    p = gcd(n1,n2)\n",
    "    if p == 1:\n",
    "        return None\n",
    "    q1 = n1 // p\n",
    "    q2 = n2 // p\n",
    "    try:\n",
    "        d1 = invert(e1, (p-1)*(q1-1))\n",
    "        d2 = invert(e2, (p-1)*(q2-1))\n",
    "    except:\n",
    "        return None\n",
    "    return dec(c1 ,d1, n1), dec(c2, d2, n2)"
   ]
  },
  {
   "cell_type": "code",
   "execution_count": 89,
   "metadata": {},
   "outputs": [
    {
     "data": {
      "text/plain": [
       "[[1, 18, ('. Imagin', 'm A to B')]]"
      ]
     },
     "execution_count": 89,
     "metadata": {},
     "output_type": "execute_result"
    }
   ],
   "source": [
    "iter_all(factor_collision_attack, frames)"
   ]
  },
  {
   "cell_type": "markdown",
   "metadata": {},
   "source": [
    "### Fermat"
   ]
  },
  {
   "cell_type": "code",
   "execution_count": 83,
   "metadata": {},
   "outputs": [],
   "source": [
    "def fermat_dec_attack(frame):\n",
    "    n, e, c = extract_frame(frame)\n",
    "    p_q = iroot(n, 2)[0]\n",
    "    for _ in range(20000):\n",
    "        p_q += 1\n",
    "        if iroot(p_q**2 - n,2)[1] == 1:\n",
    "            tmp = iroot(p_q**2 - n,2)[0]\n",
    "            p = (p_q + tmp)\n",
    "            q = (p_q - tmp)\n",
    "            phi = (p-1)*(q-1)\n",
    "            d = invert(e, phi)\n",
    "            return dec(c, d, n)\n",
    "    return None"
   ]
  },
  {
   "cell_type": "code",
   "execution_count": 90,
   "metadata": {},
   "outputs": [
    {
     "name": "stdout",
     "output_type": "stream",
     "text": [
      "10 will get\n"
     ]
    }
   ],
   "source": [
    "for i in range(len(frames)):\n",
    "    m = fermat_dec_attack(frames[i])\n",
    "    if m:\n",
    "        print(i, m)"
   ]
  },
  {
   "cell_type": "markdown",
   "metadata": {},
   "source": [
    "### Pollard p-1"
   ]
  },
  {
   "cell_type": "code",
   "execution_count": 114,
   "metadata": {},
   "outputs": [],
   "source": [
    "def Pollard_p_1(N):\n",
    "    a = 2\n",
    "    while a < N-2:\n",
    "        f = a\n",
    "        for n in range(1, 200000):\n",
    "            f = powmod(f, n, N)\n",
    "            if n % 2 == 0:\n",
    "                d = gcd(f-1, N)\n",
    "                if 1 < d < N:\n",
    "                    return d\n",
    "        print(a)\n",
    "        a += 1"
   ]
  },
  {
   "cell_type": "code",
   "execution_count": 117,
   "metadata": {},
   "outputs": [
    {
     "name": "stdout",
     "output_type": "stream",
     "text": [
      "2  That is\n",
      "6  \"Logic \n",
      "19 instein.\n"
     ]
    }
   ],
   "source": [
    "index = [2, 6, 19]\n",
    "for i in index:\n",
    "    n, e, c = extract_frame(frames[i])\n",
    "    p = Pollard_p_1(n)\n",
    "    q = n // p\n",
    "    phi = (p-1) * (q-1)\n",
    "    d = invert(e,phi)\n",
    "    m = dec(c, d, n)\n",
    "    print(i, m)"
   ]
  }
 ],
 "metadata": {
  "kernelspec": {
   "display_name": "Python 3",
   "language": "python",
   "name": "python3"
  },
  "language_info": {
   "codemirror_mode": {
    "name": "ipython",
    "version": 3
   },
   "file_extension": ".py",
   "mimetype": "text/x-python",
   "name": "python",
   "nbconvert_exporter": "python",
   "pygments_lexer": "ipython3",
   "version": "3.8.5"
  }
 },
 "nbformat": 4,
 "nbformat_minor": 4
}
